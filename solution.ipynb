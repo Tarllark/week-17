{
 "cells": [
  {
   "cell_type": "markdown",
   "metadata": {},
   "source": [
    "# Assignment 5"
   ]
  },
  {
   "cell_type": "markdown",
   "metadata": {},
   "source": [
    "### 1. Download a picture programmatically "
   ]
  },
  {
   "cell_type": "code",
   "execution_count": 1,
   "metadata": {},
   "outputs": [
    {
     "name": "stdout",
     "output_type": "stream",
     "text": [
      "###############################################\n",
      "#\n",
      "# Title:\twebget.py\n",
      "#\n",
      "# Descr:\tDownload file from URL\n",
      "#\n",
      "# Author:\tTarllark\n",
      "#\n",
      "# Team:\t\tSuccessful Story\n",
      "#\n",
      "###############################################\n",
      "\n",
      "import sys\n",
      "import os\n",
      "import urllib.request\n",
      "from urllib.parse import urlparse\n",
      "import shutil\n",
      "\n",
      "def download(url, to=None):\n",
      "\tif to == None:\n",
      "\t\tfile_name = urlparse(url).path.split('/')[-1]\n",
      "\telse:\n",
      "\t\tfile_name = to + urlparse(url).path.split('/')[-1]\n",
      "\twith urllib.request.urlopen(url) as response, open(file_name, 'wb') as out_file:\n",
      "\t\tshutil.copyfileobj(response, out_file)\n",
      "\treturn file_name\n"
     ]
    }
   ],
   "source": [
    "!cat webget.py"
   ]
  },
  {
   "cell_type": "markdown",
   "metadata": {},
   "source": [
    "### 2. Make a numpy-array of all the pixelcolors. \n",
    "### 3. Inverse all the colorvalues, so that the image becomes a \"negative image\""
   ]
  },
  {
   "cell_type": "code",
   "execution_count": 3,
   "metadata": {},
   "outputs": [
    {
     "name": "stdout",
     "output_type": "stream",
     "text": [
      "###############################################\n",
      "#\n",
      "# Title:\timage_processing.py\n",
      "#\n",
      "# Descr:\tDownloads image of given URL and creates a negative copy.\n",
      "#\n",
      "# Author:\tTarllark\n",
      "#\n",
      "# Team:\t\tSuccessful Story\n",
      "#\n",
      "###############################################\n",
      "\n",
      "from webget import download as wget\n",
      "import cv2 as cv\n",
      "\n",
      "def image_prep(url='https://i2.wp.com/hennesseyperformance.com/wp-content/uploads/2017/10/6X6-Hennessey-Velociraptor-06.jpg'):\n",
      "\timage = wget(url)\n",
      "\treturn cv.imread(image)\n",
      "\t\n",
      "if __name__ == '__main__':\n",
      "\tcv.imwrite(\"test.jpg\", cv.bitwise_not(image_prep()))\n"
     ]
    }
   ],
   "source": [
    "!cat image_processing.py"
   ]
  },
  {
   "cell_type": "code",
   "execution_count": 4,
   "metadata": {},
   "outputs": [],
   "source": [
    "!python image_processing.py"
   ]
  },
  {
   "cell_type": "markdown",
   "metadata": {},
   "source": [
    "![](./6X6-Hennessey-Velociraptor-06.jpg)\n",
    "![](./negative_copy.jpg)"
   ]
  }
 ],
 "metadata": {
  "kernelspec": {
   "display_name": "Python 3",
   "language": "python",
   "name": "python3"
  },
  "language_info": {
   "codemirror_mode": {
    "name": "ipython",
    "version": 3
   },
   "file_extension": ".py",
   "mimetype": "text/x-python",
   "name": "python",
   "nbconvert_exporter": "python",
   "pygments_lexer": "ipython3",
   "version": "3.7.3"
  }
 },
 "nbformat": 4,
 "nbformat_minor": 2
}
